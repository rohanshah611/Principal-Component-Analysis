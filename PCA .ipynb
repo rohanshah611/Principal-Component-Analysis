{
 "cells": [
  {
   "cell_type": "code",
   "execution_count": 1,
   "metadata": {},
   "outputs": [],
   "source": [
    "import numpy as np\n",
    "import matplotlib\n",
    "import matplotlib.pyplot as plt"
   ]
  },
  {
   "cell_type": "markdown",
   "metadata": {},
   "source": [
    "We will use a very simple wine dataset"
   ]
  },
  {
   "cell_type": "code",
   "execution_count": 2,
   "metadata": {},
   "outputs": [],
   "source": [
    "from sklearn.datasets import load_wine\n",
    "from sklearn.model_selection import KFold\n",
    "data = load_wine()"
   ]
  },
  {
   "cell_type": "code",
   "execution_count": 3,
   "metadata": {},
   "outputs": [
    {
     "name": "stdout",
     "output_type": "stream",
     "text": [
      "['alcohol', 'malic_acid', 'ash', 'alcalinity_of_ash', 'magnesium', 'total_phenols', 'flavanoids', 'nonflavanoid_phenols', 'proanthocyanins', 'color_intensity', 'hue', 'od280/od315_of_diluted_wines', 'proline']\n"
     ]
    }
   ],
   "source": [
    "features=data.feature_names\n",
    "print(features)"
   ]
  },
  {
   "cell_type": "markdown",
   "metadata": {},
   "source": [
    "Classifying the type of red wine from features of the wine such as the alchohol and other chemical components. There are three possible wine types"
   ]
  },
  {
   "cell_type": "code",
   "execution_count": 4,
   "metadata": {},
   "outputs": [
    {
     "name": "stdout",
     "output_type": "stream",
     "text": [
      "['class_0' 'class_1' 'class_2']\n"
     ]
    }
   ],
   "source": [
    "target_names=data.target_names\n",
    "print(target_names)\n"
   ]
  },
  {
   "cell_type": "code",
   "execution_count": 7,
   "metadata": {},
   "outputs": [
    {
     "name": "stdout",
     "output_type": "stream",
     "text": [
      "number of features : 13\n",
      "number of samples : 178\n",
      "number of classes : 3\n"
     ]
    }
   ],
   "source": [
    "X=data.data\n",
    "#print(X.shape)\n",
    "y=data.target\n",
    "#print(y.shape)\n",
    "print(\"number of features : {}\".format(X.shape[1]))\n",
    "print(\"number of samples : {}\".format(X.shape[0]))\n",
    "print(\"number of classes : {}\".format(np.unique(y).size))\n"
   ]
  },
  {
   "cell_type": "markdown",
   "metadata": {},
   "source": [
    "Normalizing the data using StandardScaler"
   ]
  },
  {
   "cell_type": "code",
   "execution_count": 10,
   "metadata": {},
   "outputs": [],
   "source": [
    "from sklearn.preprocessing import StandardScaler\n",
    "scaling=StandardScaler(copy=True, with_mean=True, with_std=True)\n",
    "scaling.fit(X)\n",
    "Xs=scaling.transform(X)"
   ]
  },
  {
   "cell_type": "code",
   "execution_count": 11,
   "metadata": {},
   "outputs": [],
   "source": [
    "from sklearn.decomposition import PCA\n",
    "ncomp = 2\n",
    "pca = PCA(n_components=ncomp, svd_solver='randomized', whiten=True)\n",
    "pca.fit(Xs)\n",
    "Z=pca.transform(Xs)"
   ]
  },
  {
   "cell_type": "markdown",
   "metadata": {},
   "source": [
    "Starting indices of each class"
   ]
  },
  {
   "cell_type": "code",
   "execution_count": 14,
   "metadata": {},
   "outputs": [
    {
     "data": {
      "text/plain": [
       "(array([0, 1, 2]), array([  0,  59, 130], dtype=int64))"
      ]
     },
     "execution_count": 14,
     "metadata": {},
     "output_type": "execute_result"
    }
   ],
   "source": [
    "np.unique(y, return_index=True)"
   ]
  },
  {
   "cell_type": "code",
   "execution_count": 15,
   "metadata": {},
   "outputs": [
    {
     "data": {
      "text/plain": [
       "<matplotlib.legend.Legend at 0x19da96f8588>"
      ]
     },
     "execution_count": 15,
     "metadata": {},
     "output_type": "execute_result"
    },
    {
     "data": {
      "image/png": "[encoded data removed]",
      "text/plain": [
       "<Figure size 432x288 with 1 Axes>"
      ]
     },
     "metadata": {
      "needs_background": "light"
     },
     "output_type": "display_data"
    }
   ],
   "source": [
    "X_class0 = Z[0:58:,[0]]\n",
    "Y_class0 = Z[0:58:,[1]]\n",
    "plt.scatter(X_class0,Y_class0,c='red')\n",
    "X_class1 = Z[59:129:,[0]]\n",
    "Y_class1 = Z[59:129:,[1]]\n",
    "plt.scatter(X_class1,Y_class1,c='green')\n",
    "X_class2 = Z[130:,[0]]\n",
    "Y_class2 = Z[130:,[1]]\n",
    "plt.scatter(X_class2,Y_class2,c='blue')\n",
    "plt.legend(['class0','class1','class2'],loc='upper right')"
   ]
  },
  {
   "cell_type": "markdown",
   "metadata": {},
   "source": [
    "PCA is used as a preprocessing step. In this case we will use cross validation to find the best accuracy for various PC's"
   ]
  },
  {
   "cell_type": "code",
   "execution_count": 19,
   "metadata": {},
   "outputs": [],
   "source": [
    "from sklearn.preprocessing import StandardScaler\n",
    "from sklearn.linear_model import LogisticRegression\n",
    "nfold = 5\n",
    "# Create a K-fold object\n",
    "kf = KFold(n_splits=nfold)\n",
    "kf.get_n_splits(X)\n",
    "# Number of PCs to try\n",
    "ncomp_test = np.arange(2,12)\n",
    "num_nc = len(ncomp_test)\n",
    "# Accuracy: acc[icomp,ifold] is test accuracy when using `ncomp = ncomp_test[ic\n",
    "acc = np.zeros((num_nc,nfold))\n",
    "# Loop over number of components to test\n",
    "for icomp, ncomp in enumerate(ncomp_test):\n",
    "\n",
    " # Look over the folds\n",
    "    for ifold, I in enumerate(kf.split(X)):\n",
    "        Itr, Its = I\n",
    "        Xtr = X[Itr]\n",
    "        ytr = y[Itr]\n",
    "        Xts = X[Its]\n",
    "        yts = y[Its]\n",
    " # TODO: Create a scaling object and fit the scaling on the training data\n",
    " #FOR TRAINING DATA\n",
    "        scaling=StandardScaler(copy=True, with_mean=True, with_std=True)\n",
    "        scaling.fit(Xtr)\n",
    "        Xtrs=scaling.transform(Xtr)\n",
    "\n",
    "\n",
    "        pca = PCA(n_components=ncomp, svd_solver='randomized', whiten=True)\n",
    "        pca.fit(Xtrs)\n",
    "\n",
    "\n",
    "         #Z_tr=pca_1.transform(Xtrs)\n",
    "\n",
    "        Xtrs_new=pca.transform(Xtrs)\n",
    "\n",
    "\n",
    "\n",
    " #pca_2 = PCA(n_components=ncomp, svd_solver='randomized', whiten=True)\n",
    " #pca_2.fit(Xtss)\n",
    " #Z_ts=pca_2.transform(Xtss)\n",
    "\n",
    " # TODO: Fit the PCA on the scaled training data\n",
    " # TODO: Train a classifier on the transformed training data\n",
    " # Use a logistic regression classifier\n",
    "        logreg = LogisticRegression(multi_class='auto', solver='lbfgs')\n",
    "        logreg.fit(Xtrs_new, ytr)\n",
    "\n",
    "        Xtss=scaling.transform(Xts)\n",
    "        Xtss_new=pca.transform(Xtss)\n",
    "        yhat = logreg.predict(Xtss_new)\n",
    " # TODO: Transform the test data through data scaler and PCA\n",
    " # TODO: Predict the labels the test data\n",
    "\n",
    " # TODO: Measure the accuracy\n",
    "        acc[icomp, ifold] = np.mean(yhat == yts)"
   ]
  },
  {
   "cell_type": "code",
   "execution_count": 18,
   "metadata": {},
   "outputs": [
    {
     "name": "stdout",
     "output_type": "stream",
     "text": [
      "Optimal order using normal rule is : 11\n",
      "Accuracy 0.955397\n",
      "Optimal model order with one SE rule : 7\n",
      "Accuracy 0.949524\n"
     ]
    },
    {
     "data": {
      "image/png": "[encoded data removed]",
      "text/plain": [
       "<Figure size 432x288 with 1 Axes>"
      ]
     },
     "metadata": {
      "needs_background": "light"
     },
     "output_type": "display_data"
    }
   ],
   "source": [
    "acc_mean = np.mean(acc,axis=1)\n",
    "acc_se = np.std(acc,axis = 1)/np.sqrt(nfold-1)\n",
    "plt.errorbar(ncomp_test,acc_mean,marker = 'o', yerr = acc_se)\n",
    "imax = np.argmax(acc_mean)\n",
    "print(\"Optimal order using normal rule is :\",ncomp_test[imax])\n",
    "print('Accuracy %f' % acc_mean[imax])\n",
    "acc_tgt = acc_mean[imax] - acc_se[imax]\n",
    "I = np.where(acc_mean >= acc_tgt)[0]\n",
    "iopt = I[0]\n",
    "dopt = ncomp_test[iopt]\n",
    "print('Optimal model order with one SE rule : %d' % dopt)\n",
    "print('Accuracy %f' % acc_mean[iopt])"
   ]
  },
  {
   "cell_type": "markdown",
   "metadata": {},
   "source": [
    "We will now try a more complex classifier -- a support vector classifier with a radial basis function. When we use such a classifer, there will be a number of parameters to tune. When the number of parameters to tune becomes large, writing a loop over multiple parameters as we did above becomes cumbersome. The sklearn package has a very nice routine, GridSearchCV to perform this sort of parameter search.\n",
    "\n",
    "Before, we do this we need to create an estimator Pipeline. An estimator pipeline is a sequence of transformations followed by an estimator that will operate on the transformed data. Create the following pipeline:\n",
    "\n",
    "Create a StandardScaler() object called scaler for the first transformation\n",
    "Create a PCA() object called pca for the second transformation\n",
    "Create a SVC() object called svc for the final SVM classifier. Set the parameter kernel='rbf'.\n",
    "Once you have the three steps defined, you can create the pipeline with the command:\n",
    "\n",
    "pipe = Pipeline(steps=[('scaler', scaler), ('pca', pca), ('svc', svc)])"
   ]
  },
  {
   "cell_type": "code",
   "execution_count": 20,
   "metadata": {},
   "outputs": [],
   "source": [
    "from sklearn.pipeline import Pipeline\n",
    "from sklearn.model_selection import GridSearchCV\n",
    "from sklearn.svm import SVC\n",
    "# TODO\n",
    "scaler = StandardScaler()\n",
    "pca = PCA()\n",
    "svc = SVC(kernel='rbf')\n",
    "pipe = Pipeline(steps=[('scaler', scaler), ('pca', pca), ('svc', svc)])\n"
   ]
  },
  {
   "cell_type": "code",
   "execution_count": 21,
   "metadata": {},
   "outputs": [],
   "source": [
    "ncomp_test = np.arange(3,11)\n",
    "c_test= np.array([10**-2, 10**-1,10**0,10**1,10**2,10**3])\n",
    "gam_test=np.array([10**-3, 10**-2,10**-1,10**0,10**1])"
   ]
  },
  {
   "cell_type": "code",
   "execution_count": 22,
   "metadata": {},
   "outputs": [],
   "source": [
    "params = {'pca__n_components': ncomp_test, 'svc__C' : c_test, 'svc__gamma': gam_test}"
   ]
  },
  {
   "cell_type": "code",
   "execution_count": 23,
   "metadata": {},
   "outputs": [
    {
     "name": "stderr",
     "output_type": "stream",
     "text": [
      "C:\\Users\\Blackfish96\\miniconda3\\envs\\tensorflow\\lib\\site-packages\\sklearn\\model_selection\\_search.py:849: FutureWarning: The parameter 'iid' is deprecated in 0.22 and will be removed in 0.24.\n",
      "  \"removed in 0.24.\", FutureWarning\n"
     ]
    },
    {
     "data": {
      "text/plain": [
       "GridSearchCV(cv=5,\n",
       "             estimator=Pipeline(steps=[('scaler', StandardScaler()),\n",
       "                                       ('pca', PCA()), ('svc', SVC())]),\n",
       "             iid=False,\n",
       "             param_grid={'pca__n_components': array([ 3,  4,  5,  6,  7,  8,  9, 10]),\n",
       "                         'svc__C': array([1.e-02, 1.e-01, 1.e+00, 1.e+01, 1.e+02, 1.e+03]),\n",
       "                         'svc__gamma': array([1.e-03, 1.e-02, 1.e-01, 1.e+00, 1.e+01])})"
      ]
     },
     "execution_count": 23,
     "metadata": {},
     "output_type": "execute_result"
    }
   ],
   "source": [
    "estimator = GridSearchCV(estimator = pipe,param_grid=params, cv=5, iid=False)\n",
    "estimator.fit(X,y)"
   ]
  },
  {
   "cell_type": "code",
   "execution_count": 24,
   "metadata": {},
   "outputs": [
    {
     "data": {
      "text/plain": [
       "dict_keys(['cv', 'error_score', 'estimator__memory', 'estimator__steps', 'estimator__verbose', 'estimator__scaler', 'estimator__pca', 'estimator__svc', 'estimator__scaler__copy', 'estimator__scaler__with_mean', 'estimator__scaler__with_std', 'estimator__pca__copy', 'estimator__pca__iterated_power', 'estimator__pca__n_components', 'estimator__pca__random_state', 'estimator__pca__svd_solver', 'estimator__pca__tol', 'estimator__pca__whiten', 'estimator__svc__C', 'estimator__svc__break_ties', 'estimator__svc__cache_size', 'estimator__svc__class_weight', 'estimator__svc__coef0', 'estimator__svc__decision_function_shape', 'estimator__svc__degree', 'estimator__svc__gamma', 'estimator__svc__kernel', 'estimator__svc__max_iter', 'estimator__svc__probability', 'estimator__svc__random_state', 'estimator__svc__shrinking', 'estimator__svc__tol', 'estimator__svc__verbose', 'estimator', 'iid', 'n_jobs', 'param_grid', 'pre_dispatch', 'refit', 'return_train_score', 'scoring', 'verbose'])"
      ]
     },
     "execution_count": 24,
     "metadata": {},
     "output_type": "execute_result"
    }
   ],
   "source": [
    "estimator.get_params().keys()"
   ]
  },
  {
   "cell_type": "code",
   "execution_count": 25,
   "metadata": {},
   "outputs": [
    {
     "name": "stdout",
     "output_type": "stream",
     "text": [
      "best test score is 0.9777777777777779\n",
      "best parameter is {'pca__n_components': 5, 'svc__C': 1.0, 'svc__gamma': 0.1}\n"
     ]
    }
   ],
   "source": [
    "bst_score=estimator.best_score_\n",
    "bst_pram=estimator.best_params_\n",
    "print(\"best test score is {}\".format(bst_score))\n",
    "print(\"best parameter is {}\".format(bst_pram))\n",
    "test_score = estimator.cv_results_['mean_test_score']"
   ]
  }
 ],
 "metadata": {
  "kernelspec": {
   "display_name": "Python 3.7 (tensorflow)",
   "language": "python",
   "name": "tensorflow"
  },
  "language_info": {
   "codemirror_mode": {
    "name": "ipython",
    "version": 3
   },
   "file_extension": ".py",
   "mimetype": "text/x-python",
   "name": "python",
   "nbconvert_exporter": "python",
   "pygments_lexer": "ipython3",
   "version": "3.7.7"
  }
 },
 "nbformat": 4,
 "nbformat_minor": 4
}
